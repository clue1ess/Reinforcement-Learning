{
 "cells": [
  {
   "cell_type": "code",
   "execution_count": 7,
   "metadata": {},
   "outputs": [],
   "source": [
    "import numpy as np\n",
    "import matplotlib.pyplot as plt\n",
    "import sys"
   ]
  },
  {
   "cell_type": "code",
   "execution_count": 8,
   "metadata": {},
   "outputs": [],
   "source": [
    "class Environment:\n",
    "    def __init__(self, n_arms) :\n",
    "        self.q_star = np.random.normal(0,1,n_arms)\n",
    "    \n",
    "    def give_reward(self, action) :\n",
    "        return 1 if (np.random.random()  < self.q_star[action]) else 0"
   ]
  },
  {
   "cell_type": "code",
   "execution_count": 9,
   "metadata": {},
   "outputs": [],
   "source": [
    "class Agent:\n",
    "    def __init__(self, n_arms, e) :\n",
    "        self.arms = n_arms\n",
    "        self.e = e #epilson\n",
    "        self.n = np.zeroes((n_arms,1), dtype=int)#count for no of times each action is pulled\n",
    "        self.q = np.zeroes((n_arms,1), dtype=float)#estimated reward for each action\n",
    "    \n",
    "    def take_action(self) :\n",
    "        if(np.random.random() < self.e): #explore\n",
    "            return np.random.randint(0, self.arms)\n",
    "        else:\n",
    "            return np.argmax(self.q)\n",
    "        \n",
    "    def update_rule(self, action, reward) :\n",
    "        self.n[action] = self.n[action] + 1\n",
    "        self.q[action] = self.q[action] + (1.0 / (self.n[action] + 1)) * (reward - self.q[action])  "
   ]
  },
  {
   "cell_type": "code",
   "execution_count": 10,
   "metadata": {},
   "outputs": [],
   "source": [
    "def experiment(n_arms, e, n_episodes) :\n",
    "    env = Environment(n_arms)\n",
    "    agent = Agent(n_arms, e)\n",
    "    actions = []\n",
    "    rewards = []\n",
    "    for episode in range(n_episodes) :\n",
    "        action = agent.take_action()\n",
    "        reward = env.give_reward(action)\n",
    "        agent.update_rule(action, reward)\n",
    "        actions.append(action)\n",
    "        rewards.append(reward)\n",
    "    return np.array(actions), np.array(rewards)\n"
   ]
  },
  {
   "cell_type": "code",
   "execution_count": 11,
   "metadata": {},
   "outputs": [],
   "source": [
    "def main(n_probs, n_episodes, n_arms, e) :\n",
    "    for prob in range(n_probs) :\n",
    "        actions, rewards = experiment(n_arms, e, n_episodes)"
   ]
  },
  {
   "cell_type": "code",
   "execution_count": null,
   "metadata": {},
   "outputs": [],
   "source": [
    "if __name__ = \"main\" :\n",
    "    "
   ]
  }
 ],
 "metadata": {
  "kernelspec": {
   "display_name": "Python 3",
   "language": "python",
   "name": "python3"
  },
  "language_info": {
   "codemirror_mode": {
    "name": "ipython",
    "version": 3
   },
   "file_extension": ".py",
   "mimetype": "text/x-python",
   "name": "python",
   "nbconvert_exporter": "python",
   "pygments_lexer": "ipython3",
   "version": "3.7.3"
  }
 },
 "nbformat": 4,
 "nbformat_minor": 2
}
