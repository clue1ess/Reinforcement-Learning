{
 "cells": [
  {
   "cell_type": "markdown",
   "metadata": {},
   "source": [
    "# Implementation of Median-Elimination Algorithm "
   ]
  },
  {
   "cell_type": "code",
   "execution_count": 1,
   "metadata": {},
   "outputs": [],
   "source": [
    "import numpy as np\n",
    "import matplotlib.pyplot as plt\n",
    "import sys"
   ]
  },
  {
   "cell_type": "code",
   "execution_count": 2,
   "metadata": {},
   "outputs": [],
   "source": [
    "class Environment:\n",
    "    def __init__(self, n_arms) :\n",
    "        self.q_star = np.random.normal(0,1,n_arms)\n",
    "        self.optimal_arm = np.argmax(self.q_star)\n",
    "    \n",
    "    def give_reward(self, action) :\n",
    "        return 1 if (np.random.random()  < self.q_star[action]) else 0\n",
    "    \n",
    "    def check_optimal(self, action) :\n",
    "        return 1 if (action == self.optimal_arm) else 0"
   ]
  },
  {
   "cell_type": "code",
   "execution_count": 3,
   "metadata": {},
   "outputs": [],
   "source": [
    "class Agent:\n",
    "    def __init__(self, n_arms) :\n",
    "        self.arms = n_arms\n",
    "        self.n = np.zeros((n_arms,1), dtype=int)#count for no of times each action is pulled\n",
    "        self.q = np.zeros((n_arms,1), dtype=float)#estimated reward for each action\n",
    "    \n",
    "    def take_action(self) :\n",
    "        n = np.sum(self.n)\n",
    "        nr = np.log(n)\n",
    "        term = []\n",
    "        for arm in range(self.arms) :\n",
    "            temp = self.q[arm] + np.sqrt(float(nr / self.n[arm]))\n",
    "            term.append(temp)\n",
    "        return np.argmax(term)\n",
    "        \n",
    "    def update_rule(self, action, reward) :\n",
    "        self.n[action] = self.n[action] + 1\n",
    "        self.q[action] = self.q[action] + (1.0 / (self.n[action] + 1)) * (reward - self.q[action])  "
   ]
  },
  {
   "cell_type": "code",
   "execution_count": 4,
   "metadata": {},
   "outputs": [],
   "source": [
    "def experiment(n_arms, n_episodes) :\n",
    "    env = Environment(n_arms)\n",
    "    agent = Agent(n_arms)\n",
    "    actions = []\n",
    "    rewards = []\n",
    "    #initialization phase\n",
    "    for action in range(n_arms) :\n",
    "        reward = env.give_reward(action)\n",
    "        agent.update_rule(action, reward)\n",
    "        actions .append(env.check_optimal(action))\n",
    "        rewards.append(reward)\n",
    "    for episode in range(n_arms, n_episodes) :\n",
    "        action = agent.take_action()\n",
    "        reward = env.give_reward(action)\n",
    "        agent.update_rule(action, reward)\n",
    "        actions .append(env.check_optimal(action))\n",
    "        rewards.append(reward)\n",
    "    #actions = (actions * 100) / n_episodes\n",
    "    return actions, rewards\n"
   ]
  },
  {
   "cell_type": "code",
   "execution_count": null,
   "metadata": {},
   "outputs": [],
   "source": [
    "def main(n_probs, n_episodes, n_arms) :\n",
    "    avg_rewards = []\n",
    "    optimal_arms = []\n",
    "    for prob in range(n_probs) :\n",
    "        actions, rewards = experiment(n_arms, n_episodes)\n",
    "        avg_rewards.append(rewards)\n",
    "        optimal_arms.append(actions)\n",
    "    #print(avg_rewards, optimal_arms)\n",
    "    rewards = np.mean(avg_rewards, axis = 0)\n",
    "    actions = np.sum(optimal_arms, axis = 0)\n",
    "    actions_avg = []\n",
    "    for x in actions:\n",
    "        x = (x * 100) / n_probs\n",
    "        actions_avg.append(x)\n",
    "    #print(Rewards)\n",
    "    #print(Actions)\n",
    "    #print(np.shape(rewards), np.shape(actions))\n",
    "    steps = [i for i in range(n_episodes)]\n",
    "    plt.xlabel(\"Steps\")\n",
    "    plt.ylabel(\"Avg rewards\")\n",
    "    plt.plot(steps, rewards)\n",
    "    plt.show()\n",
    "    plt.xlabel(\"Steps\")\n",
    "    plt.ylabel(\"% Optimal Action\")\n",
    "    plt.plot(steps, actions_avg)\n",
    "    plt.show()\n",
    "    "
   ]
  },
  {
   "cell_type": "code",
   "execution_count": null,
   "metadata": {},
   "outputs": [],
   "source": [
    "main(2000,1000,10)"
   ]
  }
 ],
 "metadata": {
  "kernelspec": {
   "display_name": "Python 3",
   "language": "python",
   "name": "python3"
  },
  "language_info": {
   "codemirror_mode": {
    "name": "ipython",
    "version": 3
   },
   "file_extension": ".py",
   "mimetype": "text/x-python",
   "name": "python",
   "nbconvert_exporter": "python",
   "pygments_lexer": "ipython3",
   "version": "3.7.3"
  }
 },
 "nbformat": 4,
 "nbformat_minor": 2
}
